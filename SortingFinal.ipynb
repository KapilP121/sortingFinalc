{
 "cells": [
  {
   "cell_type": "markdown",
   "id": "a3bf474f-3f0a-42af-9d67-7e4bc1a29097",
   "metadata": {},
   "source": [
    "Problem 2 : We are given a list of n-1 integers and these integers are in the range of 1 to n . There are no\n",
    "duplicates in the list. One of the integers is missing in the list. Give an algorithm to find that element Ex:\n",
    "[1,2,4,6,3,7,8] 5 is the missing num."
   ]
  },
  {
   "cell_type": "code",
   "execution_count": 1,
   "id": "382c8837-5237-461c-981b-86cd305e4bbb",
   "metadata": {},
   "outputs": [
    {
     "name": "stdout",
     "output_type": "stream",
     "text": [
      "5\n"
     ]
    }
   ],
   "source": [
    "def findMissing(arr, N):\n",
    "\n",
    "\t# create a list of zeroes\n",
    "\ttemp = [0] * (N+1)\n",
    "\n",
    "\tfor i in range(0, N):\n",
    "\t\ttemp[arr[i] - 1] = 1\n",
    "\n",
    "\tfor i in range(0, N+1):\n",
    "\t\tif(temp[i] == 0):\n",
    "\t\t\tans = i + 1\n",
    "\n",
    "\tprint(ans)\n",
    "\n",
    "# Driver code\n",
    "if __name__ == '__main__':\n",
    "\tarr = [1,2,4,6,3,7,8]\n",
    "\tN = len(arr)\n",
    "\n",
    "\t# Function call\n",
    "\tfindMissing(arr, N)\n"
   ]
  },
  {
   "cell_type": "markdown",
   "id": "1ab7aca3-651f-463b-a315-d0f0b56ad4d1",
   "metadata": {},
   "source": [
    "Problem 3 : Given an array of n positive numbers. All numbers occurs even number of times except 1 which\n",
    "occurs odd number of times. Find that number in O(n) time and O(1) space. Ex: [1,2,3,2,3,1,3]. 3 is repeats odd\n",
    "times."
   ]
  },
  {
   "cell_type": "code",
   "execution_count": 2,
   "id": "74b96bf4-b7ef-4666-b531-6077c91da9e5",
   "metadata": {},
   "outputs": [
    {
     "name": "stdout",
     "output_type": "stream",
     "text": [
      "3\n"
     ]
    }
   ],
   "source": [
    "def getOddOccurrence(arr, arr_size):\n",
    "     \n",
    "    for i in range(0,arr_size):\n",
    "        count = 0\n",
    "        for j in range(0, arr_size):\n",
    "            if arr[i] == arr[j]:\n",
    "                count+=1\n",
    "             \n",
    "        if (count % 2 != 0):\n",
    "            return arr[i]\n",
    "         \n",
    "    return -1\n",
    "     \n",
    "     \n",
    "# driver code \n",
    "arr = [1,2,3,2,3,1,3]\n",
    "n = len(arr)\n",
    "print(getOddOccurrence(arr, n))"
   ]
  },
  {
   "cell_type": "markdown",
   "id": "dcefd6d6-aee9-4efb-8aca-19e342982d74",
   "metadata": {},
   "source": [
    "Problem 4 : Given an array of n elements. Find two elements in the array such that their sum is equal to given\n",
    "element K."
   ]
  },
  {
   "cell_type": "code",
   "execution_count": 3,
   "id": "59c745cc-0bf3-4ce5-8a64-5b5d9facf302",
   "metadata": {},
   "outputs": [
    {
     "name": "stdout",
     "output_type": "stream",
     "text": [
      "Yes\n"
     ]
    }
   ],
   "source": [
    "def chkPair(A, size, x):\n",
    "    for i in range(0, size - 1):\n",
    "        for j in range(i + 1, size):\n",
    "            if (A[i] + A[j] == x):\n",
    "                return 1\n",
    "    return 0\n",
    " \n",
    " \n",
    "if __name__ == \"__main__\":\n",
    "    A = [0, -1, 2, -3, 1]\n",
    "    x = -2\n",
    "    size = len(A)\n",
    " \n",
    "    if (chkPair(A, size, x)):\n",
    "        print(\"Yes\")\n",
    " \n",
    "    else:\n",
    "        print(\"No\")"
   ]
  },
  {
   "cell_type": "markdown",
   "id": "f71ebf03-2b22-4441-b1fd-963c5776853c",
   "metadata": {},
   "source": [
    "Problem 5 : Given an array of both positive and negative numbers, find two numbers such that their sum is\n",
    "closest to 0. Ex: [ 1 ,60 ,-10, 70, -80,85]. Ans : -80,85."
   ]
  },
  {
   "cell_type": "code",
   "execution_count": 4,
   "id": "d537d1fa-5ea3-41b0-89c8-63bf9dcdc7c1",
   "metadata": {},
   "outputs": [
    {
     "name": "stdout",
     "output_type": "stream",
     "text": [
      "-80 85\n"
     ]
    }
   ],
   "source": [
    "def minAbsSumPair(arr,arr_size):\n",
    "\tinv_count = 0\n",
    "\n",
    "\tif arr_size < 2:\n",
    "\t\tprint(\"Invalid Input\")\n",
    "\t\treturn\n",
    "\n",
    "\t# Initialization of values \n",
    "\tmin_l = 0\n",
    "\tmin_r = 1\n",
    "\tmin_sum = arr[0] + arr[1]\n",
    "\tfor l in range (0, arr_size - 1):\n",
    "\t\tfor r in range (l + 1, arr_size):\n",
    "\t\t\tsum = arr[l] + arr[r]\t\t\t\t \n",
    "\t\t\tif abs(min_sum) > abs(sum):\t\t \n",
    "\t\t\t\tmin_sum = sum\n",
    "\t\t\t\tmin_l = l\n",
    "\t\t\t\tmin_r = r\n",
    "\n",
    "\tprint(arr[min_l] , arr[min_r])\n",
    "\n",
    "arr = [1 ,60 ,-10, 70, -80,85]\n",
    "\n",
    "minAbsSumPair(arr, 6);\n",
    "\n"
   ]
  },
  {
   "cell_type": "markdown",
   "id": "da9746b7-7f82-42ee-a7a6-334c362a9f64",
   "metadata": {},
   "source": [
    "Problem 7 : Given an array of n elements . Find three elements i, j, k in the array such that\n",
    "i * i + j * j = k*k."
   ]
  },
  {
   "cell_type": "code",
   "execution_count": 5,
   "id": "e12136a1-a315-47a6-ba1d-585765c65cc1",
   "metadata": {},
   "outputs": [
    {
     "name": "stdout",
     "output_type": "stream",
     "text": [
      "4\n"
     ]
    }
   ],
   "source": [
    "def CountTriplets(arr, n):\n",
    "\n",
    "\tcnt = 0;\n",
    "\n",
    "\tfor i in range(0, n):\n",
    "\t\tfor j in range(i + 1, n):\n",
    "\t\t\tfor k in range(j + 1, n):\n",
    "\n",
    "\t\t\t\n",
    "\t\t\t\tif (arr[k] < arr[i] and arr[i] < arr[j]):\n",
    "\t\t\t\t\tcnt += 1;\n",
    "\treturn cnt;\n",
    "\n",
    "\n",
    "arr = [ 2, 5, 1, 3, 0 ];\n",
    "n = len(arr);\n",
    "print(CountTriplets(arr, n))\n",
    "\n",
    "\n"
   ]
  },
  {
   "cell_type": "markdown",
   "id": "7d5ed58d-1fa9-43da-97ae-440b468030ea",
   "metadata": {},
   "source": [
    "Problem 10 : Sort an array of 0’s, 1’s and 2’s [or R’s, G’s and B’s]: Given an array A[] consisting of 0’s, 1’s and\n",
    "2’s, give an algorithm for sorting A[].The algorithm should put all 0’s first, then all 1’s and finally all 2’s at the\n",
    "end. Example Input = {0,1,1,0,1,2,1,2,0,0,0,1}, Output = {0,0,0,0,0,1,1,1,1,1,2,2}"
   ]
  },
  {
   "cell_type": "code",
   "execution_count": 6,
   "id": "90a9a906-8476-4344-bec9-31daf15f61e8",
   "metadata": {},
   "outputs": [
    {
     "name": "stdout",
     "output_type": "stream",
     "text": [
      "0 0 0 0 0 1 1 1 1 1 2 2 "
     ]
    }
   ],
   "source": [
    "def sort012(a, arr_size):\n",
    "\tlo = 0\n",
    "\thi = arr_size - 1\n",
    "\tmid = 0\n",
    "\twhile mid <= hi:\n",
    "\t\tif a[mid] == 0:\n",
    "\t\t\ta[lo], a[mid] = a[mid], a[lo]\n",
    "\t\t\tlo = lo + 1\n",
    "\t\t\tmid = mid + 1\n",
    "\t\n",
    "\t\telif a[mid] == 1:\n",
    "\t\t\tmid = mid + 1\n",
    "\t\telse:\n",
    "\t\t\ta[mid], a[hi] = a[hi], a[mid]\n",
    "\t\t\thi = hi - 1\n",
    "\treturn a\n",
    "\n",
    "def printArray(a):\n",
    "\tfor k in a:\n",
    "\t\tprint(k, end=' ')\n",
    "\n",
    "arr = [0,1,1,0,1,2,1,2,0,0,0,1]\n",
    "arr_size = len(arr)\n",
    "arr = sort012(arr, arr_size)\n",
    "printArray(arr)\n",
    "\n"
   ]
  },
  {
   "cell_type": "markdown",
   "id": "71c4674f-3503-41fc-830b-b05328e8cfbd",
   "metadata": {},
   "source": [
    "Problem 6 : Given an array of n elements . Find three elements such that their sum is equal to the given\n",
    "number."
   ]
  },
  {
   "cell_type": "code",
   "execution_count": 7,
   "id": "e485562a-5b6f-4b99-95c3-6e9fa2bdf9ef",
   "metadata": {},
   "outputs": [
    {
     "name": "stdout",
     "output_type": "stream",
     "text": [
      "2\n"
     ]
    }
   ],
   "source": [
    "import sys\n",
    "def solution(arr, x):\n",
    "    closestSum = sys.maxsize\n",
    "    for i in range (len(arr)) :\n",
    "        for j in range(i + 1, len(arr)):\n",
    "            for k in range(j + 1, len( arr)):\n",
    "             \n",
    "                # Update the closestSum\n",
    "                if(abs(x - closestSum) > \n",
    "                abs(x - (arr[i] +\n",
    "                arr[j] + arr[k]))):\n",
    "                    closestSum = (arr[i] +\n",
    "                                    arr[j] + arr[k])\n",
    "    return closestSum\n",
    " \n",
    "\n",
    "if __name__ == \"__main__\":\n",
    "     \n",
    "    arr = [ -1, 2, 1, -4 ]\n",
    "    x = 1\n",
    "     \n",
    "    print(solution(arr, x))\n",
    " \n"
   ]
  },
  {
   "cell_type": "markdown",
   "id": "d1944699-cb78-4ed2-ae5a-8cac35f3726f",
   "metadata": {},
   "source": [
    "Problem 8 : An element is a majority if it appears more than n/2 times. Give an algorithm takes an array of n\n",
    "element as argument and identifies a majority (if it exists)."
   ]
  },
  {
   "cell_type": "code",
   "execution_count": 8,
   "id": "95de493c-1f20-470e-a63f-ddaa9a4d79a7",
   "metadata": {},
   "outputs": [
    {
     "name": "stdout",
     "output_type": "stream",
     "text": [
      "1\n"
     ]
    }
   ],
   "source": [
    "def findMajority(arr, n):\n",
    " \n",
    "    maxCount = 0\n",
    "    index = -1  # sentinels\n",
    "    for i in range(n):\n",
    " \n",
    "        count = 1\n",
    "        for j in range(i+1, n):\n",
    " \n",
    "            if(arr[i] == arr[j]):\n",
    "                count += 1\n",
    "        if(count > maxCount):\n",
    " \n",
    "            maxCount = count\n",
    "            index = i\n",
    "    if (maxCount > n//2):\n",
    "        print(arr[index])\n",
    " \n",
    "    else:\n",
    "        print(\"No Majority Element\")\n",
    " \n",
    " \n",
    "# Driver code\n",
    "if __name__ == \"__main__\":\n",
    "    arr = [1, 1, 2, 1, 3, 5, 1]\n",
    "    n = len(arr)\n",
    " \n",
    "    # Function calling\n",
    "    findMajority(arr, n)\n",
    " "
   ]
  },
  {
   "cell_type": "markdown",
   "id": "0de9d388-2920-463f-ad74-61f66b85b64d",
   "metadata": {},
   "source": [
    "Problem 9 : Given n × n matrix, and in each row all 1’s are followed by 0’s. Find the row with the maximum\n",
    "number of 0’s."
   ]
  },
  {
   "cell_type": "code",
   "execution_count": 9,
   "id": "36f06f65-ec49-4f1f-b275-670fddc7651c",
   "metadata": {},
   "outputs": [
    {
     "name": "stdout",
     "output_type": "stream",
     "text": [
      "Index of row with maximum 1s is 1\n"
     ]
    }
   ],
   "source": [
    "def first(arr, low, high):\n",
    "\tif high >= low:\n",
    "\t\tmid = low + (high - low)//2\n",
    "\t\tif (mid == 0 or arr[mid - 1] == 0) and arr[mid] == 1:\n",
    "\t\t\treturn mid\n",
    "\t\telif arr[mid] == 0:\n",
    "\t\t\treturn first(arr, (mid + 1), high)\n",
    "\t\t\treturn first(arr, low, (mid - 1))\n",
    "\treturn -1\n",
    "\n",
    "\n",
    "def rowWithMax1s(mat):\n",
    "\n",
    "\t# Initialize max values\n",
    "\tR = len(mat)\n",
    "\tC = len(mat[0])\n",
    "\tmax_row_index = 0\n",
    "\tmax = -1\n",
    "\tfor i in range(0, R):\n",
    "\t\tindex = first(mat[i], 0, C - 1)\n",
    "\t\tif index != -1 and C - index > max:\n",
    "\t\t\tmax = C - index\n",
    "\t\t\tmax_row_index = i\n",
    "\n",
    "\treturn max_row_index\n",
    "\n",
    "\n",
    "# Driver Code\n",
    "mat = [[0, 0, 0, 1],\n",
    "\t[0, 1, 1, 1],\n",
    "\t[1, 1, 1, 1],\n",
    "\t[0, 0, 0, 0]]\n",
    "print(\"Index of row with maximum 1s is\",\n",
    "\trowWithMax1s(mat))\n"
   ]
  },
  {
   "cell_type": "code",
   "execution_count": null,
   "id": "d2a46bd8-3648-4564-930c-bf8e793467a0",
   "metadata": {},
   "outputs": [],
   "source": []
  },
  {
   "cell_type": "code",
   "execution_count": null,
   "id": "513aa0b9-d515-4dfe-aa5c-a0686912d121",
   "metadata": {},
   "outputs": [],
   "source": []
  }
 ],
 "metadata": {
  "kernelspec": {
   "display_name": "Python 3 (ipykernel)",
   "language": "python",
   "name": "python3"
  },
  "language_info": {
   "codemirror_mode": {
    "name": "ipython",
    "version": 3
   },
   "file_extension": ".py",
   "mimetype": "text/x-python",
   "name": "python",
   "nbconvert_exporter": "python",
   "pygments_lexer": "ipython3",
   "version": "3.10.8"
  }
 },
 "nbformat": 4,
 "nbformat_minor": 5
}
